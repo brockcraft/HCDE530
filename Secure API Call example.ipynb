{
 "cells": [
  {
   "cell_type": "code",
   "execution_count": 5,
   "id": "f532d93f-a5d5-408b-b3a1-6ad37dbfed70",
   "metadata": {},
   "outputs": [
    {
     "name": "stdout",
     "output_type": "stream",
     "text": [
      "5f87417100dd4a1f9e2384aac27ae5a2\n",
      "Lat: 47.6038321, Lon: -122.330062\n"
     ]
    }
   ],
   "source": [
    "# If you’re working in a Jupyter Notebook on a remote server, and want to load \n",
    "# a private key or secret value securely create a .env file, which is a hidden \n",
    "# file in the same directory as the project. This is just a text file. It just \n",
    "# contains your private key, like this:\n",
    "#\n",
    "#  PRIVATE_KEY=my-secret-value\n",
    "#\n",
    "# To use it, install dotenv from the terminal (if needed):\n",
    "#  pip install python-dotenv\n",
    "#\n",
    "# You can then read the private key that is hidden in your juper notebook server \n",
    "# .env file. Normally, .env files won't be synced if/when you publish to github \n",
    "# which is the whole point of using it.\n",
    "\n",
    "from opencage.geocoder import OpenCageGeocode\n",
    "from dotenv import load_dotenv\n",
    "import os\n",
    "\n",
    "load_dotenv()  # Loads from .env in the current working directory\n",
    "private_key = os.getenv(\"OPENCAGE_KEY\") # in this example I stored the OPENCAGE_KEY in my .env file\n",
    "print(private_key)\n",
    "\n",
    "geocoder = OpenCageGeocode(private_key)\n",
    "query = 'Seattle, USA'  \n",
    "results = geocoder.geocode(query)\n",
    "lat = results[0]['geometry']['lat']\n",
    "lng = results[0]['geometry']['lng']\n",
    "print (\"Lat: %s, Lon: %s\" % (lat, lng))"
   ]
  },
  {
   "cell_type": "code",
   "execution_count": null,
   "id": "ba8af48e-2326-4d6b-935c-df369d1c1c02",
   "metadata": {},
   "outputs": [],
   "source": []
  }
 ],
 "metadata": {
  "kernelspec": {
   "display_name": "Python 3 (ipykernel)",
   "language": "python",
   "name": "python3"
  },
  "language_info": {
   "codemirror_mode": {
    "name": "ipython",
    "version": 3
   },
   "file_extension": ".py",
   "mimetype": "text/x-python",
   "name": "python",
   "nbconvert_exporter": "python",
   "pygments_lexer": "ipython3",
   "version": "3.11.9"
  }
 },
 "nbformat": 4,
 "nbformat_minor": 5
}
